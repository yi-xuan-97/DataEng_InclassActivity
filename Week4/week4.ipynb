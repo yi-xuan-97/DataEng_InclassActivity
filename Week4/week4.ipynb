{
 "cells": [
  {
   "cell_type": "code",
   "execution_count": 57,
   "metadata": {},
   "outputs": [
    {
     "name": "stdout",
     "output_type": "stream",
     "text": [
      "There are crash has not vehicle\n",
      "All crash has ID!\n"
     ]
    }
   ],
   "source": [
    "import pandas as pd\n",
    "data = pd.read_csv('Oregon Hwy 26 Crash Data for 2019 - Crashes on Hwy 26 during 2019.csv')\n",
    "\n",
    "if data['Vehicle ID'].isnull().values.any():\n",
    "    print(\"There are crash has not vehicle\")\n",
    "else:\n",
    "    print(\"All crash has vehicle\")\n",
    "\n",
    "if data['Crash ID'].isnull().values.any():\n",
    "    print(\"There are crash has not ID!!\")\n",
    "else:\n",
    "    print(\"All crash has ID!\")"
   ]
  },
  {
   "cell_type": "code",
   "execution_count": 58,
   "metadata": {},
   "outputs": [
    {
     "name": "stdout",
     "output_type": "stream",
     "text": [
      "2019.0\n",
      "1.0\n",
      "2.0\n",
      "3.0\n",
      "4.0\n",
      "5.0\n",
      "6.0\n",
      "7.0\n",
      "8.0\n",
      "9.0\n",
      "10.0\n",
      "11.0\n",
      "12.0\n"
     ]
    }
   ],
   "source": [
    "data1 = data.groupby('Crash Year')\n",
    "for n, g in data1:\n",
    "    print(n)\n",
    "data2 = data.groupby('Crash Month')\n",
    "for n, g in data2:\n",
    "    print(n)"
   ]
  },
  {
   "cell_type": "code",
   "execution_count": 59,
   "metadata": {},
   "outputs": [
    {
     "name": "stdout",
     "output_type": "stream",
     "text": [
      "Each crash has it’s unique vehicle ID and date\n",
      "Each crash DO NOT has its unique longitude and latitude\n"
     ]
    }
   ],
   "source": [
    "check_unqiue1 = data.groupby(['Vehicle ID','Crash Day'])['Crash ID']\n",
    "if check_unqiue1.head().empty:\n",
    "    print(\"Each crash has it’s unique vehicle ID and date\")\n",
    "else:\n",
    "    print(\"Each crash DO NOT has it’s unique vehicle ID and date\")\n",
    "check_unqiue2 = data.groupby(['Latitude Degrees','Longitude Degrees'])['Crash ID']\n",
    "if check_unqiue2.head().empty:\n",
    "    print(\"Each crash has its unique longitude and latitude\")\n",
    "else:\n",
    "    print(\"Each crash DO NOT has its unique longitude and latitude\")\n"
   ]
  },
  {
   "cell_type": "code",
   "execution_count": 70,
   "metadata": {},
   "outputs": [
    {
     "name": "stdout",
     "output_type": "stream",
     "text": [
      "Each vehicle in crash data OCCUR more than one time in one day\n",
      "Each day HAD more than 20 crash\n"
     ]
    }
   ],
   "source": [
    "data1 = data.groupby(['Crash Day','Crash Month'])['Crash ID'].count()\n",
    "result = True\n",
    "for i in data1:\n",
    "    if i>1 :\n",
    "        result = False\n",
    "if result:\n",
    "    print(\"Each vehicle in crash data shouldn’t occur more than one time in one day\")\n",
    "else:\n",
    "    print(\"Each vehicle in crash data OCCUR more than one time in one day\")\n",
    "\n",
    "data2 = data.groupby(['Crash Day'])['Crash ID'].count()\n",
    "result1 = True\n",
    "for i in data2:\n",
    "    if i>20 :\n",
    "        result1 = False\n",
    "if result1:\n",
    "    print(\"Each day shouldn’t have more than 20 crash\")\n",
    "else:\n",
    "    print(\"Each day HAD more than 20 crash\")"
   ]
  },
  {
   "cell_type": "code",
   "execution_count": 84,
   "metadata": {},
   "outputs": [
    {
     "name": "stdout",
     "output_type": "stream",
     "text": [
      "NOT all crash should has unique crash ID\n",
      "42.333333333333336\n"
     ]
    }
   ],
   "source": [
    "data1 = data['Crash ID'].is_unique\n",
    "if data1:\n",
    "    print(\"All crash should has unique crash ID\")\n",
    "else:\n",
    "    print(\"NOT all crash should has unique crash ID\")\n",
    "\n",
    "data2 = data.groupby('Crash Month')['Crash ID'].count().mean()\n",
    "print(data2)"
   ]
  },
  {
   "cell_type": "code",
   "execution_count": 89,
   "metadata": {},
   "outputs": [
    {
     "name": "stderr",
     "output_type": "stream",
     "text": [
      "/Library/Frameworks/Python.framework/Versions/3.10/lib/python3.10/site-packages/seaborn/distributions.py:2619: FutureWarning: `distplot` is a deprecated function and will be removed in a future version. Please adapt your code to use either `displot` (a figure-level function with similar flexibility) or `kdeplot` (an axes-level function for kernel density plots).\n",
      "  warnings.warn(msg, FutureWarning)\n",
      "/Library/Frameworks/Python.framework/Versions/3.10/lib/python3.10/site-packages/seaborn/distributions.py:2103: FutureWarning: The `axis` variable is no longer used and will be removed. Instead, assign variables directly to `x` or `y`.\n",
      "  warnings.warn(msg, FutureWarning)\n"
     ]
    },
    {
     "data": {
      "text/plain": [
       "<AxesSubplot:xlabel='Crash Hour', ylabel='Density'>"
      ]
     },
     "execution_count": 89,
     "metadata": {},
     "output_type": "execute_result"
    },
    {
     "data": {
      "image/png": "[encoded data removed]",
      "text/plain": [
       "<Figure size 432x288 with 1 Axes>"
      ]
     },
     "metadata": {
      "needs_background": "light"
     },
     "output_type": "display_data"
    }
   ],
   "source": [
    "import matplotlib as mp\n",
    "import matplotlib.pyplot as pl\n",
    "import seaborn as sns\n",
    "\n",
    "sns.distplot(data['Crash Hour'], hist=False, rug=True)\n",
    "\n"
   ]
  },
  {
   "cell_type": "code",
   "execution_count": 88,
   "metadata": {},
   "outputs": [
    {
     "name": "stderr",
     "output_type": "stream",
     "text": [
      "/Library/Frameworks/Python.framework/Versions/3.10/lib/python3.10/site-packages/seaborn/distributions.py:2619: FutureWarning: `distplot` is a deprecated function and will be removed in a future version. Please adapt your code to use either `displot` (a figure-level function with similar flexibility) or `kdeplot` (an axes-level function for kernel density plots).\n",
      "  warnings.warn(msg, FutureWarning)\n",
      "/Library/Frameworks/Python.framework/Versions/3.10/lib/python3.10/site-packages/seaborn/distributions.py:2103: FutureWarning: The `axis` variable is no longer used and will be removed. Instead, assign variables directly to `x` or `y`.\n",
      "  warnings.warn(msg, FutureWarning)\n"
     ]
    },
    {
     "data": {
      "text/plain": [
       "<AxesSubplot:xlabel='City Section ID', ylabel='Density'>"
      ]
     },
     "execution_count": 88,
     "metadata": {},
     "output_type": "execute_result"
    },
    {
     "data": {
      "image/png": "[encoded data removed]",
      "text/plain": [
       "<Figure size 432x288 with 1 Axes>"
      ]
     },
     "metadata": {
      "needs_background": "light"
     },
     "output_type": "display_data"
    }
   ],
   "source": [
    "sns.distplot(data['City Section ID'], hist=False, rug=True)"
   ]
  }
 ],
 "metadata": {
  "interpreter": {
   "hash": "aee8b7b246df8f9039afb4144a1f6fd8d2ca17a180786b69acc140d282b71a49"
  },
  "kernelspec": {
   "display_name": "Python 3.10.2 64-bit",
   "language": "python",
   "name": "python3"
  },
  "language_info": {
   "codemirror_mode": {
    "name": "ipython",
    "version": 3
   },
   "file_extension": ".py",
   "mimetype": "text/x-python",
   "name": "python",
   "nbconvert_exporter": "python",
   "pygments_lexer": "ipython3",
   "version": "3.10.2"
  },
  "orig_nbformat": 4
 },
 "nbformat": 4,
 "nbformat_minor": 2
}
